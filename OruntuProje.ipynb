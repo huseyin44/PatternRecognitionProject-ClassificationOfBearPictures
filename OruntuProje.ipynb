{
 "cells": [
  {
   "cell_type": "code",
   "execution_count": 1,
   "id": "21d89851",
   "metadata": {},
   "outputs": [],
   "source": [
    "import os\n",
    "import cv2\n",
    "import numpy as np\n",
    "from sklearn.preprocessing import LabelEncoder\n",
    "\n",
    "le = LabelEncoder()\n",
    "\n",
    "#dosyaları listeleme\n",
    "def getListOfFiles(dirName):\n",
    "    listOfFile = os.listdir(dirName)\n",
    "    allFiles = list()\n",
    "    for entry in listOfFile:\n",
    "        fullPath = os.path.join(dirName, entry)\n",
    "        if os.path.isdir(fullPath):\n",
    "            allFiles = allFiles + getListOfFiles(fullPath)\n",
    "        else:\n",
    "            allFiles.append(fullPath)\n",
    "\n",
    "    return allFiles\n",
    "\n",
    "imagePaths = getListOfFiles(\"./AyiResimleri/bears/\")"
   ]
  },
  {
   "cell_type": "code",
   "execution_count": 2,
   "id": "e536988f",
   "metadata": {},
   "outputs": [],
   "source": [
    "#resimleri okuma\n",
    "veriler = []\n",
    "lables = []\n",
    "for image in imagePaths:\n",
    "\n",
    "    lable = os.path.split(os.path.split(image)[0])[1]\n",
    "    lables.append(lable)\n",
    "\n",
    "    img = cv2.imread(image)\n",
    "    #gürültü temizleme\n",
    "    filtreliveri=cv2.fastNlMeansDenoising(img,None,10,10,10)\n",
    "    \n",
    "    filtreliveri = cv2.resize(filtreliveri, (32, 32), interpolation = cv2.INTER_AREA)\n",
    "    veriler.append(filtreliveri)\n",
    "\n",
    "veriler = np.array(veriler)\n",
    "lables = np.array(lables)\n",
    "\n",
    "lables = le.fit_transform(lables)\n",
    "\n",
    "dataset_size = veriler.shape[0]\n",
    "veriler = veriler.reshape(dataset_size,-1)\n",
    "\n",
    "#PCA dönüşümü , boyut indirgeme\n",
    "from sklearn.decomposition import PCA\n",
    "pca=PCA(5)\n",
    "datayeni=pca.fit_transform(veriler)"
   ]
  },
  {
   "cell_type": "code",
   "execution_count": 3,
   "id": "fe1b63c9",
   "metadata": {},
   "outputs": [
    {
     "name": "stdout",
     "output_type": "stream",
     "text": [
      "Ortalama Accuracy: 0.76158\n",
      "Ortalama f1_Score: 0.76855\n",
      "Ortalama recall: 0.76158\n",
      "Ortalama precision: 0.83592\n",
      "Ortalama roc_auc: 0.85595\n"
     ]
    },
    {
     "data": {
      "image/png": "[encoded data removed]",
      "text/plain": [
       "<Figure size 432x288 with 1 Axes>"
      ]
     },
     "metadata": {
      "needs_background": "light"
     },
     "output_type": "display_data"
    }
   ],
   "source": [
    "#KNN  => 5\n",
    "from sklearn.neighbors import KNeighborsClassifier\n",
    "from sklearn.model_selection import  KFold, train_test_split, cross_val_score\n",
    "from sklearn.metrics import confusion_matrix\n",
    "import seaborn as sn\n",
    "import pandas as pd\n",
    "from numpy import mean\n",
    "\n",
    "(trainX, testX, trainY, testY ) = train_test_split(datayeni, lables, test_size= 0.33, random_state=0)\n",
    "\n",
    "model = KNeighborsClassifier(n_neighbors=5, n_jobs=-1, metric='minkowski')\n",
    "model.fit(trainX, trainY)\n",
    "y_pred= model.predict(testX)\n",
    "\n",
    "cm=confusion_matrix(testY,y_pred)\n",
    "cm=pd.crosstab(testY,y_pred)\n",
    "sn.heatmap(cm, linewidths=1, annot=True,fmt='g',cbar=False)\n",
    "\n",
    "cv = KFold(n_splits=5, random_state = 0, shuffle=True)\n",
    "\n",
    "accuracy = cross_val_score(model, testX, testY, scoring='accuracy',cv=cv)\n",
    "f1_micro = cross_val_score(model, testX, testY, scoring='f1_weighted', cv=cv)\n",
    "recall = cross_val_score(model, testX, testY, scoring='recall_weighted', cv=cv)\n",
    "precision = cross_val_score(model, testX, testY, scoring='precision_weighted', cv=cv)\n",
    "roc_auc = cross_val_score(model, testX, testY, scoring='roc_auc_ovo_weighted',cv=cv)\n",
    "\n",
    "print('Ortalama Accuracy: %.5f' % (mean(accuracy)))\n",
    "print('Ortalama f1_Score: %.5f' % (mean(f1_micro)))\n",
    "print('Ortalama recall: %.5f' % (mean(recall)))\n",
    "print('Ortalama precision: %.5f' % (mean(precision)))\n",
    "print('Ortalama roc_auc: %.5f' % (mean(roc_auc)))"
   ]
  },
  {
   "cell_type": "code",
   "execution_count": 4,
   "id": "0d09812d",
   "metadata": {},
   "outputs": [
    {
     "name": "stdout",
     "output_type": "stream",
     "text": [
      "Ortalama Accuracy: 0.74000\n",
      "Ortalama f1_Score: 0.74264\n",
      "Ortalama recall: 0.74000\n",
      "Ortalama precision: 0.77903\n",
      "Ortalama roc_auc: 0.87143\n"
     ]
    },
    {
     "data": {
      "image/png": "[encoded data removed]",
      "text/plain": [
       "<Figure size 432x288 with 1 Axes>"
      ]
     },
     "metadata": {
      "needs_background": "light"
     },
     "output_type": "display_data"
    }
   ],
   "source": [
    "#KNN => 15\n",
    "model = KNeighborsClassifier(n_neighbors=15, n_jobs=-1, metric='minkowski')\n",
    "model.fit(trainX, trainY)\n",
    "y_pred= model.predict(testX)\n",
    "\n",
    "cm=confusion_matrix(testY,y_pred)\n",
    "cm=pd.crosstab(testY,y_pred)\n",
    "sn.heatmap(cm, linewidths=1, annot=True,fmt='g',cbar=False)\n",
    "\n",
    "accuracy = cross_val_score(model, testX, testY, scoring='accuracy',cv=cv)\n",
    "f1_micro = cross_val_score(model, testX, testY, scoring='f1_weighted', cv=cv)\n",
    "recall = cross_val_score(model, testX, testY, scoring='recall_weighted', cv=cv)\n",
    "precision = cross_val_score(model, testX, testY, scoring='precision_weighted', cv=cv)\n",
    "roc_auc = cross_val_score(model, testX, testY, scoring='roc_auc_ovo_weighted',cv=cv)\n",
    "\n",
    "print('Ortalama Accuracy: %.5f' % (mean(accuracy)))\n",
    "print('Ortalama f1_Score: %.5f' % (mean(f1_micro)))\n",
    "print('Ortalama recall: %.5f' % (mean(recall)))\n",
    "print('Ortalama precision: %.5f' % (mean(precision)))\n",
    "print('Ortalama roc_auc: %.5f' % (mean(roc_auc)))"
   ]
  },
  {
   "cell_type": "code",
   "execution_count": 5,
   "id": "56e72518",
   "metadata": {},
   "outputs": [
    {
     "name": "stdout",
     "output_type": "stream",
     "text": [
      "Ortalama Accuracy: 0.63526\n",
      "Ortalama f1_Score: 0.65011\n",
      "Ortalama recall: 0.63526\n",
      "Ortalama precision: 0.75683\n",
      "Ortalama roc_auc: 0.82505\n"
     ]
    },
    {
     "data": {
      "image/png": "[encoded data removed]",
      "text/plain": [
       "<Figure size 432x288 with 1 Axes>"
      ]
     },
     "metadata": {
      "needs_background": "light"
     },
     "output_type": "display_data"
    }
   ],
   "source": [
    "#KNN => 30\n",
    "model = KNeighborsClassifier(n_neighbors=30, n_jobs=-1, metric='minkowski')\n",
    "model.fit(trainX, trainY)\n",
    "y_pred= model.predict(testX)\n",
    "\n",
    "cm=confusion_matrix(testY,y_pred)\n",
    "cm=pd.crosstab(testY,y_pred)\n",
    "sn.heatmap(cm, linewidths=1, annot=True,fmt='g',cbar=False)\n",
    "\n",
    "accuracy = cross_val_score(model, testX, testY, scoring='accuracy',cv=cv)\n",
    "f1_micro = cross_val_score(model, testX, testY, scoring='f1_weighted', cv=cv)\n",
    "recall = cross_val_score(model, testX, testY, scoring='recall_weighted', cv=cv)\n",
    "precision = cross_val_score(model, testX, testY, scoring='precision_weighted', cv=cv)\n",
    "roc_auc = cross_val_score(model, testX, testY, scoring='roc_auc_ovo_weighted',cv=cv)\n",
    "\n",
    "print('Ortalama Accuracy: %.5f' % (mean(accuracy)))\n",
    "print('Ortalama f1_Score: %.5f' % (mean(f1_micro)))\n",
    "print('Ortalama recall: %.5f' % (mean(recall)))\n",
    "print('Ortalama precision: %.5f' % (mean(precision)))\n",
    "print('Ortalama roc_auc: %.5f' % (mean(roc_auc)))"
   ]
  },
  {
   "cell_type": "code",
   "execution_count": 6,
   "id": "e04327d4",
   "metadata": {},
   "outputs": [
    {
     "name": "stdout",
     "output_type": "stream",
     "text": [
      "Ortalama Accuracy: 0.48842\n",
      "Ortalama f1_Score: 0.49766\n",
      "Ortalama recall: 0.48842\n",
      "Ortalama precision: 0.53557\n",
      "Ortalama roc_auc: 0.74681\n"
     ]
    },
    {
     "data": {
      "image/png": "[encoded data removed]",
      "text/plain": [
       "<Figure size 432x288 with 1 Axes>"
      ]
     },
     "metadata": {
      "needs_background": "light"
     },
     "output_type": "display_data"
    }
   ],
   "source": [
    "#Naive Bayes\n",
    "from sklearn.naive_bayes import GaussianNB\n",
    "GNB = GaussianNB()\n",
    "GNB.fit(trainX, trainY)\n",
    "y_pred = GNB.predict(testX)\n",
    "\n",
    "cm=confusion_matrix(testY,y_pred)\n",
    "cm=pd.crosstab(testY,y_pred)\n",
    "sn.heatmap(cm, linewidths=1, annot=True,fmt='g',cbar=False)\n",
    "\n",
    "accuracy = cross_val_score(GNB, testX, testY, scoring='accuracy',cv=cv)\n",
    "f1_micro = cross_val_score(GNB, testX, testY, scoring='f1_weighted', cv=cv)\n",
    "recall = cross_val_score(GNB, testX, testY, scoring='recall_weighted', cv=cv)\n",
    "precision = cross_val_score(GNB, testX, testY, scoring='precision_weighted', cv=cv)\n",
    "roc_auc = cross_val_score(GNB, testX, testY, scoring='roc_auc_ovo_weighted',cv=cv)\n",
    "\n",
    "print('Ortalama Accuracy: %.5f' % (mean(accuracy)))\n",
    "print('Ortalama f1_Score: %.5f' % (mean(f1_micro)))\n",
    "print('Ortalama recall: %.5f' % (mean(recall)))\n",
    "print('Ortalama precision: %.5f' % (mean(precision)))\n",
    "print('Ortalama roc_auc: %.5f' % (mean(roc_auc)))"
   ]
  },
  {
   "cell_type": "code",
   "execution_count": 7,
   "id": "5dded581",
   "metadata": {},
   "outputs": [
    {
     "name": "stdout",
     "output_type": "stream",
     "text": [
      "Ortalama Accuracy: 0.62474\n",
      "Ortalama f1_Score: 0.63846\n",
      "Ortalama recall: 0.68789\n",
      "Ortalama precision: 0.68931\n",
      "Ortalama roc_auc: 0.79930\n"
     ]
    },
    {
     "data": {
      "image/png": "[encoded data removed]",
      "text/plain": [
       "<Figure size 432x288 with 1 Axes>"
      ]
     },
     "metadata": {
      "needs_background": "light"
     },
     "output_type": "display_data"
    }
   ],
   "source": [
    "#RandomForest  => 5\n",
    "from sklearn.ensemble import RandomForestClassifier\n",
    "RF = RandomForestClassifier(n_estimators=5) #kaçtane ağaç kullandığı\n",
    "\n",
    "RF.fit(trainX,trainY)\n",
    "y_pred = GNB.predict(testX)\n",
    "\n",
    "cm=confusion_matrix(testY,y_pred)\n",
    "cm=pd.crosstab(testY,y_pred)\n",
    "sn.heatmap(cm, linewidths=1, annot=True,fmt='g',cbar=False)\n",
    "\n",
    "accuracy = cross_val_score(RF, testX, testY, scoring='accuracy',cv=cv)\n",
    "f1_micro = cross_val_score(RF, testX, testY, scoring='f1_weighted', cv=cv)\n",
    "recall = cross_val_score(RF, testX, testY, scoring='recall_weighted', cv=cv)\n",
    "precision = cross_val_score(RF, testX, testY, scoring='precision_weighted', cv=cv)\n",
    "roc_auc = cross_val_score(RF, testX, testY, scoring='roc_auc_ovo_weighted',cv=cv)\n",
    "\n",
    "print('Ortalama Accuracy: %.5f' % (mean(accuracy)))\n",
    "print('Ortalama f1_Score: %.5f' % (mean(f1_micro)))\n",
    "print('Ortalama recall: %.5f' % (mean(recall)))\n",
    "print('Ortalama precision: %.5f' % (mean(precision)))\n",
    "print('Ortalama roc_auc: %.5f' % (mean(roc_auc)))"
   ]
  },
  {
   "cell_type": "code",
   "execution_count": 8,
   "id": "b3fef1b6",
   "metadata": {},
   "outputs": [
    {
     "name": "stdout",
     "output_type": "stream",
     "text": [
      "Ortalama Accuracy: 0.68789\n",
      "Ortalama f1_Score: 0.71627\n",
      "Ortalama recall: 0.73947\n",
      "Ortalama precision: 0.71867\n",
      "Ortalama roc_auc: 0.87224\n"
     ]
    },
    {
     "data": {
      "image/png": "[encoded data removed]",
      "text/plain": [
       "<Figure size 432x288 with 1 Axes>"
      ]
     },
     "metadata": {
      "needs_background": "light"
     },
     "output_type": "display_data"
    }
   ],
   "source": [
    "#RandomForest  => 25\n",
    "from sklearn.ensemble import RandomForestClassifier\n",
    "RF = RandomForestClassifier(n_estimators=25) #kaçtane ağaç kullandığı\n",
    "\n",
    "RF.fit(trainX,trainY)\n",
    "y_pred = GNB.predict(testX)\n",
    "\n",
    "cm=confusion_matrix(testY,y_pred)\n",
    "cm=pd.crosstab(testY,y_pred)\n",
    "sn.heatmap(cm, linewidths=1, annot=True,fmt='g',cbar=False)\n",
    "\n",
    "accuracy = cross_val_score(RF, testX, testY, scoring='accuracy',cv=cv)\n",
    "f1_micro = cross_val_score(RF, testX, testY, scoring='f1_weighted', cv=cv)\n",
    "recall = cross_val_score(RF, testX, testY, scoring='recall_weighted', cv=cv)\n",
    "precision = cross_val_score(RF, testX, testY, scoring='precision_weighted', cv=cv)\n",
    "roc_auc = cross_val_score(RF, testX, testY, scoring='roc_auc_ovo_weighted',cv=cv)\n",
    "\n",
    "print('Ortalama Accuracy: %.5f' % (mean(accuracy)))\n",
    "print('Ortalama f1_Score: %.5f' % (mean(f1_micro)))\n",
    "print('Ortalama recall: %.5f' % (mean(recall)))\n",
    "print('Ortalama precision: %.5f' % (mean(precision)))\n",
    "print('Ortalama roc_auc: %.5f' % (mean(roc_auc)))"
   ]
  },
  {
   "cell_type": "code",
   "execution_count": 9,
   "id": "278971e6",
   "metadata": {},
   "outputs": [
    {
     "name": "stdout",
     "output_type": "stream",
     "text": [
      "Ortalama Accuracy: 0.69789\n",
      "Ortalama f1_Score: 0.68977\n",
      "Ortalama recall: 0.73947\n",
      "Ortalama precision: 0.72499\n",
      "Ortalama roc_auc: 0.87638\n"
     ]
    },
    {
     "data": {
      "image/png": "[encoded data removed]",
      "text/plain": [
       "<Figure size 432x288 with 1 Axes>"
      ]
     },
     "metadata": {
      "needs_background": "light"
     },
     "output_type": "display_data"
    }
   ],
   "source": [
    "#RandomForest  => 50\n",
    "from sklearn.ensemble import RandomForestClassifier\n",
    "RF = RandomForestClassifier(n_estimators=50) #kaçtane ağaç kullandığı\n",
    "\n",
    "RF.fit(trainX,trainY)\n",
    "y_pred = GNB.predict(testX)\n",
    "\n",
    "cm=confusion_matrix(testY,y_pred)\n",
    "cm=pd.crosstab(testY,y_pred)\n",
    "sn.heatmap(cm, linewidths=1, annot=True,fmt='g',cbar=False)\n",
    "\n",
    "accuracy = cross_val_score(RF, testX, testY, scoring='accuracy',cv=cv)\n",
    "f1_micro = cross_val_score(RF, testX, testY, scoring='f1_weighted', cv=cv)\n",
    "recall = cross_val_score(RF, testX, testY, scoring='recall_weighted', cv=cv)\n",
    "precision = cross_val_score(RF, testX, testY, scoring='precision_weighted', cv=cv)\n",
    "roc_auc = cross_val_score(RF, testX, testY, scoring='roc_auc_ovo_weighted',cv=cv)\n",
    "\n",
    "print('Ortalama Accuracy: %.5f' % (mean(accuracy)))\n",
    "print('Ortalama f1_Score: %.5f' % (mean(f1_micro)))\n",
    "print('Ortalama recall: %.5f' % (mean(recall)))\n",
    "print('Ortalama precision: %.5f' % (mean(precision)))\n",
    "print('Ortalama roc_auc: %.5f' % (mean(roc_auc)))"
   ]
  },
  {
   "cell_type": "code",
   "execution_count": 10,
   "id": "6ca6cbef",
   "metadata": {},
   "outputs": [
    {
     "name": "stdout",
     "output_type": "stream",
     "text": [
      "Ortalama Accuracy: 0.69789\n",
      "Ortalama f1_Score: 0.64527\n",
      "Ortalama recall: 0.69789\n",
      "Ortalama precision: 0.75696\n",
      "Ortalama roc_auc: 0.87994\n"
     ]
    },
    {
     "data": {
      "image/png": "[encoded data removed]",
      "text/plain": [
       "<Figure size 432x288 with 1 Axes>"
      ]
     },
     "metadata": {
      "needs_background": "light"
     },
     "output_type": "display_data"
    }
   ],
   "source": [
    "#Destek Vektör Makinesi\n",
    "from sklearn.svm import SVC\n",
    "\n",
    "classifier = SVC(kernel='linear', random_state = 0,probability=True)\n",
    "classifier.fit(trainX, trainY)\n",
    "y_pred= model.predict(testX)\n",
    "\n",
    "cm=confusion_matrix(testY,y_pred)\n",
    "cm=pd.crosstab(testY,y_pred)\n",
    "sn.heatmap(cm, linewidths=1, annot=True,fmt='g',cbar=False)\n",
    "\n",
    "accuracy = cross_val_score(RF, testX, testY, scoring='accuracy',cv=cv)\n",
    "f1_micro = cross_val_score(RF, testX, testY, scoring='f1_weighted', cv=cv)\n",
    "recall = cross_val_score(RF, testX, testY, scoring='recall_weighted', cv=cv)\n",
    "precision = cross_val_score(RF, testX, testY, scoring='precision_weighted', cv=cv)\n",
    "roc_auc = cross_val_score(RF, testX, testY, scoring='roc_auc_ovo_weighted',cv=cv)\n",
    "\n",
    "print('Ortalama Accuracy: %.5f' % (mean(accuracy)))\n",
    "print('Ortalama f1_Score: %.5f' % (mean(f1_micro)))\n",
    "print('Ortalama recall: %.5f' % (mean(recall)))\n",
    "print('Ortalama precision: %.5f' % (mean(precision)))\n",
    "print('Ortalama roc_auc: %.5f' % (mean(roc_auc)))"
   ]
  }
 ],
 "metadata": {
  "kernelspec": {
   "display_name": "Python 3 (ipykernel)",
   "language": "python",
   "name": "python3"
  },
  "language_info": {
   "codemirror_mode": {
    "name": "ipython",
    "version": 3
   },
   "file_extension": ".py",
   "mimetype": "text/x-python",
   "name": "python",
   "nbconvert_exporter": "python",
   "pygments_lexer": "ipython3",
   "version": "3.9.7"
  }
 },
 "nbformat": 4,
 "nbformat_minor": 5
}
